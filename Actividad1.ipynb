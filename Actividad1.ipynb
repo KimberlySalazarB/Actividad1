{
  "nbformat": 4,
  "nbformat_minor": 0,
  "metadata": {
    "colab": {
      "provenance": [],
      "authorship_tag": "ABX9TyMl9kEvfCs6IHAN6Hw0+yZD",
      "include_colab_link": true
    },
    "kernelspec": {
      "name": "python3",
      "display_name": "Python 3"
    },
    "language_info": {
      "name": "python"
    }
  },
  "cells": [
    {
      "cell_type": "markdown",
      "metadata": {
        "id": "view-in-github",
        "colab_type": "text"
      },
      "source": [
        "<a href=\"https://colab.research.google.com/github/KimberlySalazarB/Actividad1/blob/main/Actividad1.ipynb\" target=\"_parent\"><img src=\"https://colab.research.google.com/assets/colab-badge.svg\" alt=\"Open In Colab\"/></a>"
      ]
    },
    {
      "cell_type": "code",
      "execution_count": 23,
      "metadata": {
        "colab": {
          "base_uri": "https://localhost:8080/"
        },
        "id": "DT6XE_RaN7UB",
        "outputId": "6d293db9-2d3a-44cf-d0f0-515483f56209"
      },
      "outputs": [
        {
          "output_type": "stream",
          "name": "stdout",
          "text": [
            "order_id\tquantity\titem_name\tchoice_description\titem_price\n",
            "1\t1\tChips and Fresh Tomato Salsa\tNULL\t$2.39 \n",
            "1\t1\tIzze\t[Clementine]\t$3.39 \n",
            "1\t1\tNantucket Nectar\t[Apple]\t$3.39 \n",
            "1\t1\tChips and Tomatillo-Green Chili Salsa\tNULL\t$2.39 \n",
            "2\t2\tChicken Bowl\t[Tomatillo-Red Chili Salsa (Hot), [Black Beans, Rice, Cheese, Sour Cream]]\t$16.98 \n",
            "3\t1\tChicken Bowl\t[Fresh Tomato Salsa (Mild), [Rice, Cheese, Sour Cream, Guacamole, Lettuce]]\t$10.98 \n",
            "3\t1\tSide of Chips\tNULL\t$1.69 \n",
            "4\t1\tSteak Burrito\t[Tomatillo Red Chili Salsa, [Fajita Vegetables, Black Beans, Pinto Beans, Cheese, Sour Cream, Guacamole, Lettuce]]\t$11.75 \n",
            "4\t1\tSteak Soft Tacos\t[Tomatillo Green Chili Salsa, [Pinto Beans, Cheese, Sour Cream, Lettuce]]\t$9.25 \n"
          ]
        }
      ],
      "source": [
        "!head data.tsv"
      ]
    },
    {
      "cell_type": "code",
      "source": [
        "!tail data.tsv"
      ],
      "metadata": {
        "colab": {
          "base_uri": "https://localhost:8080/"
        },
        "id": "scXat6SbYHOL",
        "outputId": "b997d413-1fc8-4bf7-98b7-fa42c8c250ba"
      },
      "execution_count": 24,
      "outputs": [
        {
          "output_type": "stream",
          "name": "stdout",
          "text": [
            "1831\t1\tChips\tNULL\t$2.15 \n",
            "1831\t1\tBottled Water\tNULL\t$1.50 \n",
            "1832\t1\tChicken Soft Tacos\t[Fresh Tomato Salsa, [Rice, Cheese, Sour Cream]]\t$8.75 \n",
            "1832\t1\tChips and Guacamole\tNULL\t$4.45 \n",
            "1833\t1\tSteak Burrito\t[Fresh Tomato Salsa, [Rice, Black Beans, Sour Cream, Cheese, Lettuce, Guacamole]]\t$11.75 \n",
            "1833\t1\tSteak Burrito\t[Fresh Tomato Salsa, [Rice, Sour Cream, Cheese, Lettuce, Guacamole]]\t$11.75 \n",
            "1834\t1\tChicken Salad Bowl\t[Fresh Tomato Salsa, [Fajita Vegetables, Pinto Beans, Guacamole, Lettuce]]\t$11.25 \n",
            "1834\t1\tChicken Salad Bowl\t[Fresh Tomato Salsa, [Fajita Vegetables, Lettuce]]\t$8.75 \n",
            "1834\t1\tChicken Salad Bowl\t[Fresh Tomato Salsa, [Fajita Vegetables, Pinto Beans, Lettuce]]\t$8.75 \n",
            "\n"
          ]
        }
      ]
    },
    {
      "cell_type": "markdown",
      "source": [
        "**1.- Mire en la parte superior e inferior de data.tsv entregado en esta actividad. Piensa en cómo se estructuran los datos. ¿Qué crees que significa cada columna? ¿Qué crees que significa cada fila?**"
      ],
      "metadata": {
        "id": "6xjKCcBbORVz"
      }
    },
    {
      "cell_type": "markdown",
      "source": [
        "*Columnas:*\n",
        "\n",
        "order_id: son los ID de las ordenes o pedidos que se hicieron.\n",
        "\n",
        "quantity: es la cantidad del producto que se esta pidiendo.\n",
        "\n",
        "item_name: nombre del producto.\n",
        "\n",
        "choice_description: descripcion del producto.\n",
        "\n",
        "item_price: es el precio del producto\n",
        "\n",
        "*Filas:*\n",
        "\n",
        "Son los datos de cada variable. Asimismo, en algunas se  puede encontrar con la palabra NULL eso quiere decir que esta vacio."
      ],
      "metadata": {
        "id": "xGpokJ6AO3a9"
      }
    },
    {
      "cell_type": "markdown",
      "source": [
        "**2.-¿Cuántos pedidos parece haber?**"
      ],
      "metadata": {
        "id": "FseT1qrTQ1-Z"
      }
    },
    {
      "cell_type": "code",
      "source": [
        "!awk -F'\\t' '{print $1}' data.tsv | sort |uniq |wc -l"
      ],
      "metadata": {
        "colab": {
          "base_uri": "https://localhost:8080/"
        },
        "id": "wBujap-HPLXu",
        "outputId": "f687857e-38d1-449f-8f5b-b709d374a3d3"
      },
      "execution_count": 11,
      "outputs": [
        {
          "output_type": "stream",
          "name": "stdout",
          "text": [
            "1836\n"
          ]
        }
      ]
    },
    {
      "cell_type": "markdown",
      "source": [
        "Son 1836 pedidos"
      ],
      "metadata": {
        "id": "47_TFfzKTmTh"
      }
    },
    {
      "cell_type": "markdown",
      "source": [
        "**3.-¿Cuántas líneas hay en este archivo?**"
      ],
      "metadata": {
        "id": "xHfGTC_7Tvsg"
      }
    },
    {
      "cell_type": "markdown",
      "source": [
        "Hay 4624 filas"
      ],
      "metadata": {
        "id": "ZJzxrQXJT9MP"
      }
    },
    {
      "cell_type": "code",
      "source": [
        "!wc -l data.tsv"
      ],
      "metadata": {
        "colab": {
          "base_uri": "https://localhost:8080/"
        },
        "id": "QmVUaijNTsXM",
        "outputId": "7e682378-a24f-4cf6-d2b0-52f207e2b915"
      },
      "execution_count": 12,
      "outputs": [
        {
          "output_type": "stream",
          "name": "stdout",
          "text": [
            "4624 data.tsv\n"
          ]
        }
      ]
    },
    {
      "cell_type": "markdown",
      "source": [
        "**4.-¿Qué burrito es más popular, steak o chicken?**"
      ],
      "metadata": {
        "id": "jjcrvfweUEGg"
      }
    },
    {
      "cell_type": "markdown",
      "source": [
        "El Burrito Chicken porque tiene 553."
      ],
      "metadata": {
        "id": "Jb4BSk1XU08e"
      }
    },
    {
      "cell_type": "code",
      "source": [
        "!echo 'Chicken Burrito:'\n",
        "! grep -i 'Chicken Burrito' data.tsv |wc -l"
      ],
      "metadata": {
        "colab": {
          "base_uri": "https://localhost:8080/"
        },
        "id": "3PF2crU2UsFG",
        "outputId": "25536066-604a-499d-aa54-b32afae0f152"
      },
      "execution_count": 15,
      "outputs": [
        {
          "output_type": "stream",
          "name": "stdout",
          "text": [
            "Chicken Burrito:\n",
            "553\n"
          ]
        }
      ]
    },
    {
      "cell_type": "code",
      "source": [
        "!echo 'Steak Burrito:'\n",
        "! grep -i 'Steak Burrito' data.tsv |wc -l"
      ],
      "metadata": {
        "colab": {
          "base_uri": "https://localhost:8080/"
        },
        "id": "iKazlF2-UNe7",
        "outputId": "bfc7a236-5f73-456c-9241-d63581c21126"
      },
      "execution_count": 16,
      "outputs": [
        {
          "output_type": "stream",
          "name": "stdout",
          "text": [
            "Steak Burrito:\n",
            "368\n"
          ]
        }
      ]
    },
    {
      "cell_type": "markdown",
      "source": [
        "**5.-¿Los burritos de pollo suelen tener frijoles negros o frijoles pintos?**"
      ],
      "metadata": {
        "id": "XTIaQCGAVASX"
      }
    },
    {
      "cell_type": "markdown",
      "source": [
        "Ambos frijoles, también en algunos suelen tener fijoles tintos o bien fijoñes pintos"
      ],
      "metadata": {
        "id": "IIxTMbcFV3BB"
      }
    },
    {
      "cell_type": "code",
      "source": [
        "!echo 'Pinto Beans:'\n",
        "! grep -i 'Chicken Burrito' data.tsv |grep -i 'Pinto Beans'|wc -l"
      ],
      "metadata": {
        "colab": {
          "base_uri": "https://localhost:8080/"
        },
        "id": "2EWo2wkOVFl8",
        "outputId": "4e19bf54-b22f-4ef8-f72d-ea12378fa29a"
      },
      "execution_count": 18,
      "outputs": [
        {
          "output_type": "stream",
          "name": "stdout",
          "text": [
            "Pinto Beans:\n",
            "105\n"
          ]
        }
      ]
    },
    {
      "cell_type": "code",
      "source": [
        "!echo 'Black Beans:'\n",
        "! grep -i 'Chicken Burrito' data.tsv |grep -i 'Black Beans'|wc -l"
      ],
      "metadata": {
        "colab": {
          "base_uri": "https://localhost:8080/"
        },
        "id": "6BmQjp42VrcB",
        "outputId": "540ab944-77ea-4b8f-e4cc-f4486abab176"
      },
      "execution_count": 19,
      "outputs": [
        {
          "output_type": "stream",
          "name": "stdout",
          "text": [
            "Black Beans:\n",
            "282\n"
          ]
        }
      ]
    },
    {
      "cell_type": "markdown",
      "source": [
        "**6.- Usa la línea de comandos para descubrir algo interesante sobre los datos dados.**"
      ],
      "metadata": {
        "id": "y8xwMHMsW9a2"
      }
    },
    {
      "cell_type": "markdown",
      "source": [
        "Se utiliza para imprimir 10 primeras lineas  de coincidencia con la palabra que se esta buscando que en este caso es Bottled Water."
      ],
      "metadata": {
        "id": "9JLLzdrLceoL"
      }
    },
    {
      "cell_type": "code",
      "source": [
        "!grep -m 10 \"Bottled Water\" data.tsv"
      ],
      "metadata": {
        "colab": {
          "base_uri": "https://localhost:8080/"
        },
        "id": "a0zhiwOMWsic",
        "outputId": "5be3d688-a4b9-4376-be12-66ad0c9f9fb3"
      },
      "execution_count": 47,
      "outputs": [
        {
          "output_type": "stream",
          "name": "stdout",
          "text": [
            "17\t1\tBottled Water\tNULL\t$1.09 \n",
            "38\t1\tBottled Water\tNULL\t$1.09 \n",
            "138\t1\tBottled Water\tNULL\t$1.09 \n",
            "143\t1\tBottled Water\tNULL\t$1.50 \n",
            "163\t1\tBottled Water\tNULL\t$1.50 \n",
            "203\t1\tBottled Water\tNULL\t$1.50 \n",
            "225\t2\tBottled Water\tNULL\t$3.00 \n",
            "244\t1\tBottled Water\tNULL\t$1.50 \n",
            "270\t1\tBottled Water\tNULL\t$1.50 \n",
            "288\t1\tBottled Water\tNULL\t$1.09 \n"
          ]
        }
      ]
    },
    {
      "cell_type": "markdown",
      "source": [
        "Con este comando modificamos la palabra NULL por vacio  de las 10 primeras lineas de coincidencia con la palabra que se esta buscando que en este caso es Bottled Water."
      ],
      "metadata": {
        "id": "BPz2ID6Mf3_s"
      }
    },
    {
      "cell_type": "code",
      "source": [
        "!sed 's/NULL/vacio/g' data.tsv | grep -m 10 \"Bottled Water\""
      ],
      "metadata": {
        "colab": {
          "base_uri": "https://localhost:8080/"
        },
        "id": "ByABATlLe2gt",
        "outputId": "db171628-5bb6-4ec4-e634-15420f13a084"
      },
      "execution_count": 53,
      "outputs": [
        {
          "output_type": "stream",
          "name": "stdout",
          "text": [
            "17\t1\tBottled Water\tvacio\t$1.09 \n",
            "38\t1\tBottled Water\tvacio\t$1.09 \n",
            "138\t1\tBottled Water\tvacio\t$1.09 \n",
            "143\t1\tBottled Water\tvacio\t$1.50 \n",
            "163\t1\tBottled Water\tvacio\t$1.50 \n",
            "203\t1\tBottled Water\tvacio\t$1.50 \n",
            "225\t2\tBottled Water\tvacio\t$3.00 \n",
            "244\t1\tBottled Water\tvacio\t$1.50 \n",
            "270\t1\tBottled Water\tvacio\t$1.50 \n",
            "288\t1\tBottled Water\tvacio\t$1.09 \n"
          ]
        }
      ]
    }
  ]
}